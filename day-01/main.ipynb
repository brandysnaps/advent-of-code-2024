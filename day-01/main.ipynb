{
 "cells": [
  {
   "cell_type": "markdown",
   "metadata": {},
   "source": [
    "# Part 1"
   ]
  },
  {
   "cell_type": "code",
   "execution_count": 47,
   "metadata": {},
   "outputs": [],
   "source": [
    "def read_input(file):\n",
    "    with open(file) as f:\n",
    "        return f.readlines()"
   ]
  },
  {
   "cell_type": "code",
   "execution_count": 64,
   "metadata": {},
   "outputs": [
    {
     "name": "stdout",
     "output_type": "stream",
     "text": [
      "RESULT: 3508942\n"
     ]
    }
   ],
   "source": [
    "# INPUT = \"input_sample.txt\"\n",
    "INPUT = \"input.txt\"\n",
    "\n",
    "lines = read_input(INPUT)\n",
    "\n",
    "# Initialize two empty lists\n",
    "list1 = []\n",
    "list2 = []\n",
    "\n",
    "# Iterate through each line and split the values\n",
    "for line in lines:\n",
    "    a, b = map(int, line.split())\n",
    "    list1.append(a)\n",
    "    list2.append(b)\n",
    "\n",
    "# Sort the lists\n",
    "a = list1.sort()\n",
    "b = list2.sort()\n",
    "\n",
    "# Compare the distance between the values in each list and store the result in a new list\n",
    "result = []\n",
    "for i, n in enumerate(list1):\n",
    "    result.append(abs(n - list2[i]))\n",
    "\n",
    "# Print the sum of the distances\n",
    "print(f\"RESULT: {sum(result)}\")"
   ]
  },
  {
   "cell_type": "markdown",
   "metadata": {},
   "source": [
    "# Part 2"
   ]
  },
  {
   "cell_type": "code",
   "execution_count": 66,
   "metadata": {},
   "outputs": [
    {
     "name": "stdout",
     "output_type": "stream",
     "text": [
      "RESULT: 26593248\n"
     ]
    }
   ],
   "source": [
    "# INPUT = \"input_sample.txt\"\n",
    "INPUT = \"input.txt\"\n",
    "\n",
    "lines = read_input(INPUT)\n",
    "\n",
    "list1 = []\n",
    "list2 = []\n",
    "\n",
    "# Iterate through each line and split the values\n",
    "for line in lines:\n",
    "    a, b = map(int, line.split())\n",
    "    list1.append(a)\n",
    "    list2.append(b)\n",
    "\n",
    "# Count the number of times a value in list1 appears in list2\n",
    "count_list = []\n",
    "for n in list1:\n",
    "    count_list.append(list2.count(n))\n",
    "\n",
    "# Multiply each number in list1 by the number of occurences in list2\n",
    "result = []\n",
    "for i, n in enumerate(count_list):\n",
    "    result.append(n * list1[i])\n",
    "\n",
    "# Sum the result\n",
    "print(f\"RESULT: {sum(result)}\")"
   ]
  }
 ],
 "metadata": {
  "kernelspec": {
   "display_name": ".venv",
   "language": "python",
   "name": "python3"
  },
  "language_info": {
   "codemirror_mode": {
    "name": "ipython",
    "version": 3
   },
   "file_extension": ".py",
   "mimetype": "text/x-python",
   "name": "python",
   "nbconvert_exporter": "python",
   "pygments_lexer": "ipython3",
   "version": "3.12.7"
  }
 },
 "nbformat": 4,
 "nbformat_minor": 2
}
