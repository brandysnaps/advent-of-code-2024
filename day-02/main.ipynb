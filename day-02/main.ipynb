{
 "cells": [
  {
   "cell_type": "code",
   "execution_count": 106,
   "metadata": {},
   "outputs": [],
   "source": [
    "def read_input(file) -> list:\n",
    "    with open(file, \"r\") as f:\n",
    "        return [line.split() for line in f]\n",
    "\n",
    "def get_report_steps(report) -> list:\n",
    "    return [int(report[i + 1]) - int(report[i]) for i in range(len(report) - 1)]\n",
    "\n",
    "def all_increasing(steps) -> bool:\n",
    "    return all(step > 0 for step in steps)\n",
    "\n",
    "def all_decreasing(steps) -> bool:\n",
    "    return all(step < 0 for step in steps)\n",
    "\n",
    "def acceptable_step_size(steps, max = 3) -> bool:\n",
    "    return all(0 < abs(step) <= max for step in steps)\n",
    "\n",
    "def is_safe_report(steps) -> bool:\n",
    "    return (all_increasing(steps) or all_decreasing(steps)) and acceptable_step_size(steps)"
   ]
  },
  {
   "cell_type": "code",
   "execution_count": 107,
   "metadata": {},
   "outputs": [
    {
     "name": "stdout",
     "output_type": "stream",
     "text": [
      "Number of safe reports (without Problem Dampener): 390\n",
      "Number of safe reports (with Problem Dampener): 439\n"
     ]
    }
   ],
   "source": [
    "# INPUT_FILE = \"input_sample.txt\"\n",
    "INPUT_FILE = \"input.txt\"\n",
    "\n",
    "reports = read_input(INPUT_FILE)\n",
    "\n",
    "safe_reports_without_dampener = 0\n",
    "safe_reports_with_dampener = 0\n",
    "\n",
    "# Iterate through each report\n",
    "for report in reports:\n",
    "    steps = get_report_steps(report)\n",
    "\n",
    "    # Report is safe if all increasing, all decreasing and all steps are within the acceptable range\n",
    "    if is_safe_report(steps):\n",
    "        safe_reports_without_dampener += 1\n",
    "    # For part 2, check reports that are originally marked as unsafe\n",
    "    else:\n",
    "        for i in range(len(report)):\n",
    "            # For each iteration, remove one number from the report and check if the report is safe\n",
    "            dampener_report = report[:i] + report[i+1:]\n",
    "            steps = get_report_steps(dampener_report)\n",
    "            if is_safe_report(steps):\n",
    "                safe_reports_with_dampener += 1\n",
    "                break\n",
    "\n",
    "print(f\"Number of safe reports (without Problem Dampener): {safe_reports_without_dampener}\")\n",
    "print(f\"Number of safe reports (with Problem Dampener): {safe_reports_without_dampener + safe_reports_with_dampener}\")\n"
   ]
  }
 ],
 "metadata": {
  "kernelspec": {
   "display_name": ".venv",
   "language": "python",
   "name": "python3"
  },
  "language_info": {
   "codemirror_mode": {
    "name": "ipython",
    "version": 3
   },
   "file_extension": ".py",
   "mimetype": "text/x-python",
   "name": "python",
   "nbconvert_exporter": "python",
   "pygments_lexer": "ipython3",
   "version": "3.12.7"
  }
 },
 "nbformat": 4,
 "nbformat_minor": 2
}
